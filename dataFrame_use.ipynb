{
 "cells": [
  {
   "cell_type": "code",
   "execution_count": 2,
   "metadata": {},
   "outputs": [],
   "source": [
    "# Load and import the libraries\n",
    "# pandas for working with dataframes\n",
    "# numpy for working with darrays\n",
    "# nuclear_Energy for getting the nuclear repulsion energy\n",
    "import pandas as pd\n",
    "import numpy as np\n",
    "from nuclear_Energy import nuclearEnergy"
   ]
  },
  {
   "cell_type": "code",
   "execution_count": 3,
   "metadata": {},
   "outputs": [],
   "source": [
    "# Load the data_frame with the information from energyFile.xlsx\n",
    "# in my energyFile.xlsx the sheet name 'Hoja1' is in spanish, \n",
    "# probably in your file the name is 'Sheet1'\n",
    "data_frame = pd.read_excel('energyFile.xlsx', sheet_name = 'Hoja1')"
   ]
  },
  {
   "cell_type": "code",
   "execution_count": 4,
   "metadata": {},
   "outputs": [
    {
     "data": {
      "text/html": [
       "<div>\n",
       "<style scoped>\n",
       "    .dataframe tbody tr th:only-of-type {\n",
       "        vertical-align: middle;\n",
       "    }\n",
       "\n",
       "    .dataframe tbody tr th {\n",
       "        vertical-align: top;\n",
       "    }\n",
       "\n",
       "    .dataframe thead th {\n",
       "        text-align: right;\n",
       "    }\n",
       "</style>\n",
       "<table border=\"1\" class=\"dataframe\">\n",
       "  <thead>\n",
       "    <tr style=\"text-align: right;\">\n",
       "      <th></th>\n",
       "      <th>System</th>\n",
       "      <th>Path_file</th>\n",
       "      <th>TotalE</th>\n",
       "    </tr>\n",
       "  </thead>\n",
       "  <tbody>\n",
       "    <tr>\n",
       "      <th>0</th>\n",
       "      <td>1</td>\n",
       "      <td>/home/ray/Development/nuclearE/examples/benzen...</td>\n",
       "      <td>-227.609843</td>\n",
       "    </tr>\n",
       "    <tr>\n",
       "      <th>1</th>\n",
       "      <td>2</td>\n",
       "      <td>/home/ray/Development/nuclearE/examples/methan...</td>\n",
       "      <td>-115.343769</td>\n",
       "    </tr>\n",
       "    <tr>\n",
       "      <th>2</th>\n",
       "      <td>3</td>\n",
       "      <td>/home/ray/Development/nuclearE/examples/waterD...</td>\n",
       "      <td>-152.855414</td>\n",
       "    </tr>\n",
       "  </tbody>\n",
       "</table>\n",
       "</div>"
      ],
      "text/plain": [
       "   System                                          Path_file      TotalE\n",
       "0       1  /home/ray/Development/nuclearE/examples/benzen... -227.609843\n",
       "1       2  /home/ray/Development/nuclearE/examples/methan... -115.343769\n",
       "2       3  /home/ray/Development/nuclearE/examples/waterD... -152.855414"
      ]
     },
     "execution_count": 4,
     "metadata": {},
     "output_type": "execute_result"
    }
   ],
   "source": [
    "data_frame"
   ]
  },
  {
   "cell_type": "code",
   "execution_count": 5,
   "metadata": {},
   "outputs": [],
   "source": [
    "# A new column is created for the repulsion energy 'Nuclear Energy', \n",
    "# it is calculated from the geometry file xyz 'Path_file'\n",
    "data_frame['Nuclear Energy']= data_frame['Path_file'].map(lambda x: nuclearEnergy(x))"
   ]
  },
  {
   "cell_type": "code",
   "execution_count": 6,
   "metadata": {},
   "outputs": [
    {
     "data": {
      "text/html": [
       "<div>\n",
       "<style scoped>\n",
       "    .dataframe tbody tr th:only-of-type {\n",
       "        vertical-align: middle;\n",
       "    }\n",
       "\n",
       "    .dataframe tbody tr th {\n",
       "        vertical-align: top;\n",
       "    }\n",
       "\n",
       "    .dataframe thead th {\n",
       "        text-align: right;\n",
       "    }\n",
       "</style>\n",
       "<table border=\"1\" class=\"dataframe\">\n",
       "  <thead>\n",
       "    <tr style=\"text-align: right;\">\n",
       "      <th></th>\n",
       "      <th>System</th>\n",
       "      <th>Path_file</th>\n",
       "      <th>TotalE</th>\n",
       "      <th>Nuclear Energy</th>\n",
       "    </tr>\n",
       "  </thead>\n",
       "  <tbody>\n",
       "    <tr>\n",
       "      <th>0</th>\n",
       "      <td>1</td>\n",
       "      <td>/home/ray/Development/nuclearE/examples/benzen...</td>\n",
       "      <td>-227.609843</td>\n",
       "      <td>203.019661</td>\n",
       "    </tr>\n",
       "    <tr>\n",
       "      <th>1</th>\n",
       "      <td>2</td>\n",
       "      <td>/home/ray/Development/nuclearE/examples/methan...</td>\n",
       "      <td>-115.343769</td>\n",
       "      <td>40.118770</td>\n",
       "    </tr>\n",
       "    <tr>\n",
       "      <th>2</th>\n",
       "      <td>3</td>\n",
       "      <td>/home/ray/Development/nuclearE/examples/waterD...</td>\n",
       "      <td>-152.855414</td>\n",
       "      <td>36.643800</td>\n",
       "    </tr>\n",
       "  </tbody>\n",
       "</table>\n",
       "</div>"
      ],
      "text/plain": [
       "   System                                          Path_file      TotalE  \\\n",
       "0       1  /home/ray/Development/nuclearE/examples/benzen... -227.609843   \n",
       "1       2  /home/ray/Development/nuclearE/examples/methan... -115.343769   \n",
       "2       3  /home/ray/Development/nuclearE/examples/waterD... -152.855414   \n",
       "\n",
       "   Nuclear Energy  \n",
       "0      203.019661  \n",
       "1       40.118770  \n",
       "2       36.643800  "
      ]
     },
     "execution_count": 6,
     "metadata": {},
     "output_type": "execute_result"
    }
   ],
   "source": [
    "data_frame"
   ]
  },
  {
   "cell_type": "code",
   "execution_count": 7,
   "metadata": {},
   "outputs": [],
   "source": [
    "# Nuclear energy is subtracted from the total to obtain electronic energy 'Electron Energy'.\n",
    "data_frame['Electron Energy'] = data_frame['TotalE'] - data_frame['Nuclear Energy']"
   ]
  },
  {
   "cell_type": "code",
   "execution_count": 7,
   "metadata": {},
   "outputs": [
    {
     "data": {
      "text/html": [
       "<div>\n",
       "<style scoped>\n",
       "    .dataframe tbody tr th:only-of-type {\n",
       "        vertical-align: middle;\n",
       "    }\n",
       "\n",
       "    .dataframe tbody tr th {\n",
       "        vertical-align: top;\n",
       "    }\n",
       "\n",
       "    .dataframe thead th {\n",
       "        text-align: right;\n",
       "    }\n",
       "</style>\n",
       "<table border=\"1\" class=\"dataframe\">\n",
       "  <thead>\n",
       "    <tr style=\"text-align: right;\">\n",
       "      <th></th>\n",
       "      <th>System</th>\n",
       "      <th>Path_file</th>\n",
       "      <th>TotalE</th>\n",
       "      <th>Nuclear Energy</th>\n",
       "      <th>Electron Energy</th>\n",
       "    </tr>\n",
       "  </thead>\n",
       "  <tbody>\n",
       "    <tr>\n",
       "      <th>0</th>\n",
       "      <td>1</td>\n",
       "      <td>/home/ray/Development/nuclearE/examples/benzen...</td>\n",
       "      <td>-227.609843</td>\n",
       "      <td>203.019661</td>\n",
       "      <td>-430.629504</td>\n",
       "    </tr>\n",
       "    <tr>\n",
       "      <th>1</th>\n",
       "      <td>2</td>\n",
       "      <td>/home/ray/Development/nuclearE/examples/methan...</td>\n",
       "      <td>-115.343769</td>\n",
       "      <td>40.118770</td>\n",
       "      <td>-155.462539</td>\n",
       "    </tr>\n",
       "    <tr>\n",
       "      <th>2</th>\n",
       "      <td>3</td>\n",
       "      <td>/home/ray/Development/nuclearE/examples/waterD...</td>\n",
       "      <td>-152.855414</td>\n",
       "      <td>36.643800</td>\n",
       "      <td>-189.499214</td>\n",
       "    </tr>\n",
       "  </tbody>\n",
       "</table>\n",
       "</div>"
      ],
      "text/plain": [
       "   System                                          Path_file      TotalE  \\\n",
       "0       1  /home/ray/Development/nuclearE/examples/benzen... -227.609843   \n",
       "1       2  /home/ray/Development/nuclearE/examples/methan... -115.343769   \n",
       "2       3  /home/ray/Development/nuclearE/examples/waterD... -152.855414   \n",
       "\n",
       "   Nuclear Energy  Electron Energy  \n",
       "0      203.019661      -430.629504  \n",
       "1       40.118770      -155.462539  \n",
       "2       36.643800      -189.499214  "
      ]
     },
     "execution_count": 7,
     "metadata": {},
     "output_type": "execute_result"
    }
   ],
   "source": [
    "data_frame"
   ]
  },
  {
   "cell_type": "code",
   "execution_count": 8,
   "metadata": {},
   "outputs": [],
   "source": [
    "# Short code to replace the path in the \"Path_file\" column\n",
    "# old_string is the old path file (i.e. Graham file system)\n",
    "# new_string is the new path file (i.e. your PC file system)\n",
    "old_string = \"/home/ray/Development/nuclearE/examples/\"\n",
    "new_string = \"/home/ray/examples/\"\n",
    "\n",
    "data_frame['New_path_file'] = data_frame['Path_file'].map(lambda x: x.replace(old_string, new_string))\n"
   ]
  },
  {
   "cell_type": "code",
   "execution_count": 9,
   "metadata": {},
   "outputs": [
    {
     "data": {
      "text/html": [
       "<div>\n",
       "<style scoped>\n",
       "    .dataframe tbody tr th:only-of-type {\n",
       "        vertical-align: middle;\n",
       "    }\n",
       "\n",
       "    .dataframe tbody tr th {\n",
       "        vertical-align: top;\n",
       "    }\n",
       "\n",
       "    .dataframe thead th {\n",
       "        text-align: right;\n",
       "    }\n",
       "</style>\n",
       "<table border=\"1\" class=\"dataframe\">\n",
       "  <thead>\n",
       "    <tr style=\"text-align: right;\">\n",
       "      <th></th>\n",
       "      <th>System</th>\n",
       "      <th>Path_file</th>\n",
       "      <th>TotalE</th>\n",
       "      <th>Nuclear Energy</th>\n",
       "      <th>Electron Energy</th>\n",
       "      <th>New_path_file</th>\n",
       "    </tr>\n",
       "  </thead>\n",
       "  <tbody>\n",
       "    <tr>\n",
       "      <th>0</th>\n",
       "      <td>1</td>\n",
       "      <td>/home/ray/Development/nuclearE/examples/benzen...</td>\n",
       "      <td>-227.609843</td>\n",
       "      <td>203.019661</td>\n",
       "      <td>-430.629504</td>\n",
       "      <td>/home/ray/examples/benzene.xyz</td>\n",
       "    </tr>\n",
       "    <tr>\n",
       "      <th>1</th>\n",
       "      <td>2</td>\n",
       "      <td>/home/ray/Development/nuclearE/examples/methan...</td>\n",
       "      <td>-115.343769</td>\n",
       "      <td>40.118770</td>\n",
       "      <td>-155.462539</td>\n",
       "      <td>/home/ray/examples/methanol.xyz</td>\n",
       "    </tr>\n",
       "    <tr>\n",
       "      <th>2</th>\n",
       "      <td>3</td>\n",
       "      <td>/home/ray/Development/nuclearE/examples/waterD...</td>\n",
       "      <td>-152.855414</td>\n",
       "      <td>36.643800</td>\n",
       "      <td>-189.499214</td>\n",
       "      <td>/home/ray/examples/waterDimer.xyz</td>\n",
       "    </tr>\n",
       "  </tbody>\n",
       "</table>\n",
       "</div>"
      ],
      "text/plain": [
       "   System                                          Path_file      TotalE  \\\n",
       "0       1  /home/ray/Development/nuclearE/examples/benzen... -227.609843   \n",
       "1       2  /home/ray/Development/nuclearE/examples/methan... -115.343769   \n",
       "2       3  /home/ray/Development/nuclearE/examples/waterD... -152.855414   \n",
       "\n",
       "   Nuclear Energy  Electron Energy                      New_path_file  \n",
       "0      203.019661      -430.629504     /home/ray/examples/benzene.xyz  \n",
       "1       40.118770      -155.462539    /home/ray/examples/methanol.xyz  \n",
       "2       36.643800      -189.499214  /home/ray/examples/waterDimer.xyz  "
      ]
     },
     "execution_count": 9,
     "metadata": {},
     "output_type": "execute_result"
    }
   ],
   "source": [
    "data_frame"
   ]
  },
  {
   "cell_type": "code",
   "execution_count": 10,
   "metadata": {},
   "outputs": [
    {
     "data": {
      "text/html": [
       "<div>\n",
       "<style scoped>\n",
       "    .dataframe tbody tr th:only-of-type {\n",
       "        vertical-align: middle;\n",
       "    }\n",
       "\n",
       "    .dataframe tbody tr th {\n",
       "        vertical-align: top;\n",
       "    }\n",
       "\n",
       "    .dataframe thead th {\n",
       "        text-align: right;\n",
       "    }\n",
       "</style>\n",
       "<table border=\"1\" class=\"dataframe\">\n",
       "  <thead>\n",
       "    <tr style=\"text-align: right;\">\n",
       "      <th></th>\n",
       "      <th>System</th>\n",
       "      <th>TotalE</th>\n",
       "      <th>Nuclear Energy</th>\n",
       "      <th>Electron Energy</th>\n",
       "      <th>New_path_file</th>\n",
       "    </tr>\n",
       "  </thead>\n",
       "  <tbody>\n",
       "    <tr>\n",
       "      <th>0</th>\n",
       "      <td>1</td>\n",
       "      <td>-227.609843</td>\n",
       "      <td>203.019661</td>\n",
       "      <td>-430.629504</td>\n",
       "      <td>/home/ray/examples/benzene.xyz</td>\n",
       "    </tr>\n",
       "    <tr>\n",
       "      <th>1</th>\n",
       "      <td>2</td>\n",
       "      <td>-115.343769</td>\n",
       "      <td>40.118770</td>\n",
       "      <td>-155.462539</td>\n",
       "      <td>/home/ray/examples/methanol.xyz</td>\n",
       "    </tr>\n",
       "    <tr>\n",
       "      <th>2</th>\n",
       "      <td>3</td>\n",
       "      <td>-152.855414</td>\n",
       "      <td>36.643800</td>\n",
       "      <td>-189.499214</td>\n",
       "      <td>/home/ray/examples/waterDimer.xyz</td>\n",
       "    </tr>\n",
       "  </tbody>\n",
       "</table>\n",
       "</div>"
      ],
      "text/plain": [
       "   System      TotalE  Nuclear Energy  Electron Energy  \\\n",
       "0       1 -227.609843      203.019661      -430.629504   \n",
       "1       2 -115.343769       40.118770      -155.462539   \n",
       "2       3 -152.855414       36.643800      -189.499214   \n",
       "\n",
       "                       New_path_file  \n",
       "0     /home/ray/examples/benzene.xyz  \n",
       "1    /home/ray/examples/methanol.xyz  \n",
       "2  /home/ray/examples/waterDimer.xyz  "
      ]
     },
     "execution_count": 10,
     "metadata": {},
     "output_type": "execute_result"
    }
   ],
   "source": [
    "# Deete old columns \n",
    "# Whit del, we can delete a column in the data_frame\n",
    "del(data_frame['Path_file'])\n",
    "data_frame"
   ]
  },
  {
   "cell_type": "code",
   "execution_count": null,
   "metadata": {},
   "outputs": [],
   "source": []
  }
 ],
 "metadata": {
  "kernelspec": {
   "display_name": "Python 3",
   "language": "python",
   "name": "python3"
  },
  "language_info": {
   "codemirror_mode": {
    "name": "ipython",
    "version": 3
   },
   "file_extension": ".py",
   "mimetype": "text/x-python",
   "name": "python",
   "nbconvert_exporter": "python",
   "pygments_lexer": "ipython3",
   "version": "3.8.10"
  }
 },
 "nbformat": 4,
 "nbformat_minor": 4
}
